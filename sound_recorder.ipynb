{
 "cells": [
  {
   "cell_type": "code",
   "execution_count": 1,
   "metadata": {},
   "outputs": [],
   "source": [
    "import sounddevice as sd\n",
    "import soundfile as sf\n",
    "from tkinter import *"
   ]
  },
  {
   "cell_type": "code",
   "execution_count": 2,
   "metadata": {},
   "outputs": [],
   "source": [
    "def voice_rec():\n",
    "    fs = 48000\n",
    "    \n",
    "    duration = 20\n",
    "    \n",
    "    myrecording = sd.rec(int(duration * fs), samplerate = fs, channels = 2)\n",
    "    \n",
    "    sd.wait()\n",
    "    \n",
    "    \n",
    "    return sf.write('my_audio_file.flac', myrecording, fs)"
   ]
  },
  {
   "cell_type": "code",
   "execution_count": 3,
   "metadata": {},
   "outputs": [],
   "source": [
    "master = Tk()\n",
    "\n",
    "Label(master, text = 'Voice Recorder :').grid(row = 0, sticky = W, rowspan = 5)\n",
    "\n",
    "b = Button(master, text = \"Start\", command = voice_rec)\n",
    "\n",
    "b.grid(row = 0, column = 2, columnspan = 2, rowspan = 2, padx = 5, pady = 5)\n",
    "\n",
    "mainloop()"
   ]
  }
 ],
 "metadata": {
  "kernelspec": {
   "display_name": "Python 3",
   "language": "python",
   "name": "python3"
  },
  "language_info": {
   "codemirror_mode": {
    "name": "ipython",
    "version": 3
   },
   "file_extension": ".py",
   "mimetype": "text/x-python",
   "name": "python",
   "nbconvert_exporter": "python",
   "pygments_lexer": "ipython3",
   "version": "3.8.3"
  }
 },
 "nbformat": 4,
 "nbformat_minor": 4
}
